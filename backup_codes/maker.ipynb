{
 "cells": [
  {
   "cell_type": "code",
   "execution_count": 5,
   "metadata": {},
   "outputs": [],
   "source": [
    "from PIL import Image\n",
    "import numpy as np\n",
    "\n",
    "# Open the image file\n",
    "image_path = \"bb.png\"  # Replace with the path to your image\n",
    "image = Image.open(image_path)\n",
    "\n",
    "# Convert the image to RGB format (removing the alpha channel)\n",
    "image_rgb = image.convert(\"RGB\")\n",
    "\n",
    "# Convert the RGB image to a NumPy array\n",
    "image_array = np.array(image_rgb)\n",
    "\n",
    "# Create a new Image object from the NumPy array\n",
    "new_image = Image.fromarray(image_array)\n",
    "\n",
    "# Save the new image in JPG format\n",
    "output_path = \"bb2.jpg\"\n",
    "new_image.save(output_path, \"JPEG\")\n"
   ]
  },
  {
   "cell_type": "code",
   "execution_count": null,
   "metadata": {},
   "outputs": [],
   "source": []
  },
  {
   "cell_type": "code",
   "execution_count": null,
   "metadata": {},
   "outputs": [],
   "source": []
  }
 ],
 "metadata": {
  "kernelspec": {
   "display_name": "keras_segmentation",
   "language": "python",
   "name": "python3"
  },
  "language_info": {
   "codemirror_mode": {
    "name": "ipython",
    "version": 3
   },
   "file_extension": ".py",
   "mimetype": "text/x-python",
   "name": "python",
   "nbconvert_exporter": "python",
   "pygments_lexer": "ipython3",
   "version": "3.7.16"
  },
  "orig_nbformat": 4
 },
 "nbformat": 4,
 "nbformat_minor": 2
}
