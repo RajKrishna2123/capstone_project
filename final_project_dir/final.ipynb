{
 "cells": [
  {
   "cell_type": "code",
   "execution_count": 104,
   "metadata": {},
   "outputs": [
    {
     "name": "stdout",
     "output_type": "stream",
     "text": [
      "loaded weights  checkpoints.00002\n"
     ]
    }
   ],
   "source": [
    "from keras_segmentation.predict import model_from_checkpoint_path\n",
    "import cv2\n",
    "import numpy as np\n",
    "from paddleocr import PaddleOCR\n",
    "import pandas as pd\n",
    "import os\n",
    "from collections import Counter\n",
    "from paddleocr import PaddleOCR,draw_ocr\n",
    "\n",
    "\n",
    "model=model_from_checkpoint_path(\"checkpoints\")"
   ]
  },
  {
   "cell_type": "code",
   "execution_count": 105,
   "metadata": {},
   "outputs": [],
   "source": [
    "def intersection_area(box1, box2):\n",
    "    # Extract coordinates for box 1\n",
    "    x1, y1 = box1[0]\n",
    "    x2, y2 = box1[1]\n",
    "    x3, y3 = box1[2]\n",
    "    x4, y4 = box1[3]\n",
    "\n",
    "    # Extract coordinates for box 2\n",
    "    x5, y5 = box2[0]\n",
    "    x6, y6 = box2[1]\n",
    "    x7, y7 = box2[2]\n",
    "    x8, y8 = box2[3]\n",
    "\n",
    "    # Calculate the intersection coordinates\n",
    "    x_intersection = max(x1, x5)\n",
    "    y_intersection = max(y1, y5)\n",
    "    x2_intersection = min(x2, x6)\n",
    "    y2_intersection = min(y3, y7)\n",
    "\n",
    "    # Calculate the width and height of the intersection\n",
    "    width = max(0, x2_intersection - x_intersection)\n",
    "    height = max(0, y2_intersection - y_intersection)\n",
    "\n",
    "    # Calculate the area of the intersection\n",
    "    intersection_area = width * height\n",
    "\n",
    "    return intersection_area"
   ]
  },
  {
   "cell_type": "code",
   "execution_count": 106,
   "metadata": {},
   "outputs": [],
   "source": [
    "\n",
    "def mask_conversion(inp_dict,mask):\n",
    "    keys_list = list(inp_dict.keys())\n",
    "    for i in keys_list:\n",
    "        mask[mask == i] = inp_dict[i]\n",
    "    return mask"
   ]
  },
  {
   "cell_type": "code",
   "execution_count": 107,
   "metadata": {},
   "outputs": [],
   "source": [
    "image_path=\"PMC497044_table_3.jpg\"\n",
    "\n",
    "# Reading the image\n",
    "img = cv2.imread(image_path)\n",
    "desired_size=512\n",
    "\n",
    "# Resize the image while preserving aspect ratio and adding padding\n",
    "height, width = img.shape[:2]\n",
    "max_dim = max(height, width)\n",
    "ratio = desired_size / max_dim\n",
    "new_size = tuple([int(x * ratio) for x in (width, height)])\n",
    "resized_img = cv2.resize(img, (new_size[0], new_size[1]))\n",
    "\n",
    "# Adding pad to the image to get consistent shape\n",
    "pad_w = desired_size - new_size[0]\n",
    "pad_h = desired_size - new_size[1]\n",
    "top, bottom = pad_h // 2, pad_h - (pad_h // 2)\n",
    "left, right = pad_w // 2, pad_w - (pad_w // 2)\n",
    "z = cv2.copyMakeBorder(resized_img, top, bottom, left, right, cv2.BORDER_CONSTANT, value=[0, 0, 0])\n",
    "x=model.predict_segmentation(z)\n",
    "dic={1:255,2:150,3:80}\n",
    "image_decoded=mask_conversion(dic,x)"
   ]
  },
  {
   "cell_type": "code",
   "execution_count": 108,
   "metadata": {},
   "outputs": [
    {
     "name": "stdout",
     "output_type": "stream",
     "text": [
      "29 91\n"
     ]
    }
   ],
   "source": [
    "# Initialize variables to store the coordinates of the first non-zero pixel\n",
    "first_Y = None\n",
    "first_X = None\n",
    "\n",
    "# Find the coordinates (i, j) of the first non-zero pixel from the top-left\n",
    "for i in range(0, 256):\n",
    "    for j in range(0, 256):\n",
    "        if image_decoded[i, j] > 0:\n",
    "            first_Y = i - 1\n",
    "            first_X = j - 1\n",
    "            break\n",
    "    if first_Y is not None:\n",
    "        break\n",
    "print(first_X,first_Y)"
   ]
  },
  {
   "cell_type": "code",
   "execution_count": 109,
   "metadata": {},
   "outputs": [
    {
     "name": "stdout",
     "output_type": "stream",
     "text": [
      "166 165\n"
     ]
    }
   ],
   "source": [
    "# Initialize variables to store the coordinates of the first non-zero pixel from the bottom-right\n",
    "last_Y = None\n",
    "last_X = None\n",
    "# Find the coordinates (i, j) of the first non-zero pixel from the bottom-right\n",
    "for i in range(255, -1, -1):\n",
    "    for j in range(255, -1, -1):\n",
    "        if image_decoded[i, j] > 0:\n",
    "            last_Y = i + 2\n",
    "            last_X = j + 2\n",
    "            break\n",
    "    if last_Y is not None:\n",
    "        break\n",
    "print(last_X,last_Y)"
   ]
  },
  {
   "cell_type": "markdown",
   "metadata": {},
   "source": [
    "<h1>vertical</h1>"
   ]
  },
  {
   "cell_type": "code",
   "execution_count": 110,
   "metadata": {},
   "outputs": [],
   "source": [
    "x = 0\n",
    "y = 0\n",
    "for i in range(first_X, last_X):    \n",
    "    for j in range(first_Y, last_Y):\n",
    "        if image_decoded[j, i] == 0:\n",
    "            y = y + 1           \n",
    "        else:\n",
    "            x = x + 1\n",
    "\n",
    "    # Now, outside of the inner loop for each column, check if x is less than y\n",
    "    if y > x:\n",
    "        for w in range(first_Y, last_Y):\n",
    "            image_decoded[w, i] = 0\n",
    "    x = 0\n",
    "    y = 0\n",
    "cv2.imencode('.png', image_decoded)[1].tofile(\"temp1.png\")"
   ]
  },
  {
   "cell_type": "markdown",
   "metadata": {},
   "source": [
    "<h1>horizontal</h1>"
   ]
  },
  {
   "cell_type": "code",
   "execution_count": 111,
   "metadata": {},
   "outputs": [],
   "source": [
    "x = 0\n",
    "y = 0\n",
    "for i in range(first_Y, last_Y):        \n",
    "    for j in range(first_X, last_X):\n",
    "        if image_decoded[i, j] == 0:\n",
    "            y = y + 1\n",
    "        else:\n",
    "            x = x + 1\n",
    "    if y > x:\n",
    "        for w in range(first_X, last_X):\n",
    "            image_decoded[i,w] = 0\n",
    "    x = 0\n",
    "    y = 0\n",
    "cv2.imencode('.png', image_decoded)[1].tofile(\"temp2.png\")"
   ]
  },
  {
   "cell_type": "code",
   "execution_count": 112,
   "metadata": {},
   "outputs": [],
   "source": [
    "top, bottom = pad_h // 4, 256 - (pad_h // 4)\n",
    "left, right = pad_w // 4, 256 - (pad_w // 4)\n",
    "\n",
    "# Crop the image\n",
    "cropped_image = image_decoded[top:bottom, left:right]\n",
    "\n",
    "# Save the modified image\n",
    "cropped_image = cv2.resize(cropped_image, (width,height),interpolation=cv2.INTER_NEAREST)\n",
    "cv2.imencode('.png', cropped_image)[1].tofile(\"temp3.png\")"
   ]
  },
  {
   "cell_type": "code",
   "execution_count": 113,
   "metadata": {},
   "outputs": [
    {
     "name": "stdout",
     "output_type": "stream",
     "text": [
      "[2023/09/01 10:05:08] ppocr DEBUG: Namespace(alpha=1.0, benchmark=False, beta=1.0, cls_batch_num=6, cls_image_shape='3, 48, 192', cls_model_dir='C:\\\\Users\\\\rkd3d/.paddleocr/whl\\\\cls\\\\ch_ppocr_mobile_v2.0_cls_infer', cls_thresh=0.9, cpu_threads=10, crop_res_save_dir='./output', det=True, det_algorithm='DB', det_box_type='quad', det_db_box_thresh=0.6, det_db_score_mode='fast', det_db_thresh=0.3, det_db_unclip_ratio=1.5, det_east_cover_thresh=0.1, det_east_nms_thresh=0.2, det_east_score_thresh=0.8, det_limit_side_len=960, det_limit_type='max', det_model_dir='C:\\\\Users\\\\rkd3d/.paddleocr/whl\\\\det\\\\en\\\\en_PP-OCRv3_det_infer', det_pse_box_thresh=0.85, det_pse_min_area=16, det_pse_scale=1, det_pse_thresh=0, det_sast_nms_thresh=0.2, det_sast_score_thresh=0.5, draw_img_save_dir='./inference_results', drop_score=0.5, e2e_algorithm='PGNet', e2e_char_dict_path='./ppocr/utils/ic15_dict.txt', e2e_limit_side_len=768, e2e_limit_type='max', e2e_model_dir=None, e2e_pgnet_mode='fast', e2e_pgnet_score_thresh=0.5, e2e_pgnet_valid_set='totaltext', enable_mkldnn=False, fourier_degree=5, gpu_id=0, gpu_mem=500, help='==SUPPRESS==', image_dir=None, image_orientation=False, ir_optim=True, kie_algorithm='LayoutXLM', label_list=['0', '180'], lang='en', layout=True, layout_dict_path=None, layout_model_dir=None, layout_nms_threshold=0.5, layout_score_threshold=0.5, max_batch_size=10, max_text_length=25, merge_no_span_structure=True, min_subgraph_size=15, mode='structure', ocr=True, ocr_order_method=None, ocr_version='PP-OCRv4', output='./output', page_num=0, precision='fp32', process_id=0, re_model_dir=None, rec=True, rec_algorithm='SVTR_LCNet', rec_batch_num=6, rec_char_dict_path='C:\\\\Users\\\\rkd3d\\\\AppData\\\\Roaming\\\\Python\\\\Python37\\\\site-packages\\\\paddleocr\\\\ppocr\\\\utils\\\\en_dict.txt', rec_image_inverse=True, rec_image_shape='3, 48, 320', rec_model_dir='C:\\\\Users\\\\rkd3d/.paddleocr/whl\\\\rec\\\\en\\\\en_PP-OCRv4_rec_infer', recovery=False, return_word_box=False, save_crop_res=False, save_log_path='./log_output/', scales=[8, 16, 32], ser_dict_path='../train_data/XFUND/class_list_xfun.txt', ser_model_dir=None, show_log=True, sr_batch_num=1, sr_image_shape='3, 32, 128', sr_model_dir=None, structure_version='PP-StructureV2', table=True, table_algorithm='TableAttn', table_char_dict_path=None, table_max_len=488, table_model_dir=None, total_process_num=1, type='ocr', use_angle_cls=True, use_dilation=False, use_gpu=False, use_mp=False, use_npu=False, use_onnx=False, use_pdf2docx_api=False, use_pdserving=False, use_space_char=True, use_tensorrt=False, use_visual_backbone=True, use_xpu=False, vis_font_path='./doc/fonts/simfang.ttf', warmup=False)\n"
     ]
    }
   ],
   "source": [
    "# Initialize the OCR model\n",
    "ocr = PaddleOCR(use_angle_cls=True, lang='en')\n",
    "\n",
    "# Load the original image\n",
    "original_image = img\n",
    "\n",
    "# Load the segmentation mask and perform connected component labeling\n",
    "img = cv2.imread(\"temp3.png\", cv2.IMREAD_GRAYSCALE)  # Make sure the image is grayscale\n",
    "n_labels, labels, stats, centroids = cv2.connectedComponentsWithStats(img)\n",
    "\n",
    "# Create a directory to save cropped images\n",
    "output_folder = \"cropped_images\"\n",
    "os.makedirs(output_folder, exist_ok=True)\n",
    "\n",
    "# Create a list to store the modified bounding boxes (expanded by 3 pixels)\n",
    "expanded_bounding_boxes = []\n",
    "text_arr = []"
   ]
  },
  {
   "cell_type": "code",
   "execution_count": 120,
   "metadata": {},
   "outputs": [
    {
     "name": "stdout",
     "output_type": "stream",
     "text": [
      "[(37, 37, 286, 23), (37, 58, 288, 23), (37, 77, 200, 17), (233, 77, 90, 17), (37, 90, 200, 18), (233, 90, 90, 16), (37, 102, 200, 17), (233, 102, 90, 17), (37, 116, 286, 17), (37, 129, 201, 15), (231, 129, 92, 15), (37, 37, 286, 23), (37, 58, 288, 23), (37, 77, 200, 17), (233, 77, 90, 17), (37, 90, 200, 18), (233, 90, 90, 16), (37, 102, 200, 17), (233, 102, 90, 17), (37, 116, 286, 17), (37, 129, 201, 15), (231, 129, 92, 15)]\n"
     ]
    }
   ],
   "source": [
    "# Iterate over each labeled region in the sorted order\n",
    "for index in range(1, n_labels):\n",
    "    area = stats[index, cv2.CC_STAT_AREA]\n",
    "    \n",
    "    # Extract the original bounding box (x, y, w, h) for the current label\n",
    "    x, y, w, h = stats[index, cv2.CC_STAT_LEFT], stats[index, cv2.CC_STAT_TOP], stats[index, cv2.CC_STAT_WIDTH], stats[index, cv2.CC_STAT_HEIGHT]\n",
    "    \n",
    "    # Expand the bounding box by 3 pixels in all directions\n",
    "    x -= 4\n",
    "    y -= 4\n",
    "    w += 8\n",
    "    h += 8\n",
    "    expanded_bounding_boxes.append((x, y, w, h))\n",
    "print(expanded_bounding_boxes)"
   ]
  },
  {
   "cell_type": "code",
   "execution_count": 115,
   "metadata": {},
   "outputs": [
    {
     "name": "stdout",
     "output_type": "stream",
     "text": [
      "[2023/09/01 10:05:10] ppocr DEBUG: Namespace(alpha=1.0, benchmark=False, beta=1.0, cls_batch_num=6, cls_image_shape='3, 48, 192', cls_model_dir='C:\\\\Users\\\\rkd3d/.paddleocr/whl\\\\cls\\\\ch_ppocr_mobile_v2.0_cls_infer', cls_thresh=0.9, cpu_threads=10, crop_res_save_dir='./output', det=True, det_algorithm='DB', det_box_type='quad', det_db_box_thresh=0.6, det_db_score_mode='fast', det_db_thresh=0.3, det_db_unclip_ratio=1.5, det_east_cover_thresh=0.1, det_east_nms_thresh=0.2, det_east_score_thresh=0.8, det_limit_side_len=960, det_limit_type='max', det_model_dir='C:\\\\Users\\\\rkd3d/.paddleocr/whl\\\\det\\\\en\\\\en_PP-OCRv3_det_infer', det_pse_box_thresh=0.85, det_pse_min_area=16, det_pse_scale=1, det_pse_thresh=0, det_sast_nms_thresh=0.2, det_sast_score_thresh=0.5, draw_img_save_dir='./inference_results', drop_score=0.5, e2e_algorithm='PGNet', e2e_char_dict_path='./ppocr/utils/ic15_dict.txt', e2e_limit_side_len=768, e2e_limit_type='max', e2e_model_dir=None, e2e_pgnet_mode='fast', e2e_pgnet_score_thresh=0.5, e2e_pgnet_valid_set='totaltext', enable_mkldnn=False, fourier_degree=5, gpu_id=0, gpu_mem=500, help='==SUPPRESS==', image_dir=None, image_orientation=False, ir_optim=True, kie_algorithm='LayoutXLM', label_list=['0', '180'], lang='en', layout=True, layout_dict_path=None, layout_model_dir=None, layout_nms_threshold=0.5, layout_score_threshold=0.5, max_batch_size=10, max_text_length=25, merge_no_span_structure=True, min_subgraph_size=15, mode='structure', ocr=True, ocr_order_method=None, ocr_version='PP-OCRv4', output='./output', page_num=0, precision='fp32', process_id=0, re_model_dir=None, rec=True, rec_algorithm='SVTR_LCNet', rec_batch_num=6, rec_char_dict_path='C:\\\\Users\\\\rkd3d\\\\AppData\\\\Roaming\\\\Python\\\\Python37\\\\site-packages\\\\paddleocr\\\\ppocr\\\\utils\\\\en_dict.txt', rec_image_inverse=True, rec_image_shape='3, 48, 320', rec_model_dir='C:\\\\Users\\\\rkd3d/.paddleocr/whl\\\\rec\\\\en\\\\en_PP-OCRv4_rec_infer', recovery=False, return_word_box=False, save_crop_res=False, save_log_path='./log_output/', scales=[8, 16, 32], ser_dict_path='../train_data/XFUND/class_list_xfun.txt', ser_model_dir=None, show_log=True, sr_batch_num=1, sr_image_shape='3, 32, 128', sr_model_dir=None, structure_version='PP-StructureV2', table=True, table_algorithm='TableAttn', table_char_dict_path=None, table_max_len=488, table_model_dir=None, total_process_num=1, type='ocr', use_angle_cls=True, use_dilation=False, use_gpu=False, use_mp=False, use_npu=False, use_onnx=False, use_pdf2docx_api=False, use_pdserving=False, use_space_char=True, use_tensorrt=False, use_visual_backbone=True, use_xpu=False, vis_font_path='./doc/fonts/simfang.ttf', warmup=False)\n",
      "[2023/09/01 10:05:11] ppocr DEBUG: dt_boxes num : 26, elapse : 0.16060519218444824\n",
      "[2023/09/01 10:05:12] ppocr DEBUG: cls num  : 26, elapse : 0.35147595405578613\n",
      "[2023/09/01 10:05:18] ppocr DEBUG: rec_res num  : 26, elapse : 6.171534299850464\n",
      "[[[32.0, 3.0], [314.0, 4.0], [314.0, 16.0], [32.0, 15.0]], ('Table 4:Summary of the response of 35 evaluated patients,', 0.948997974395752)]\n",
      "[[[32.0, 16.0], [185.0, 16.0], [185.0, 28.0], [32.0, 28.0]], ('divided into CR,PR, SD and PD.', 0.8853579759597778)]\n",
      "[[[0.0, 35.0], [14.0, 35.0], [14.0, 47.0], [0.0, 47.0]], ('or-', 0.970421314239502)]\n",
      "[[[34.0, 37.0], [87.0, 39.0], [86.0, 52.0], [33.0, 50.0]], ('Response', 0.9938087463378906)]\n",
      "[[[286.0, 39.0], [322.0, 39.0], [322.0, 52.0], [286.0, 52.0]], ('No.%', 0.9842764139175415)]\n",
      "[[[0.0, 50.0], [15.0, 50.0], [15.0, 62.0], [0.0, 62.0]], ('a', 0.9918648600578308)]\n",
      "[[[0.0, 64.0], [15.0, 64.0], [15.0, 76.0], [0.0, 76.0]], ('de', 0.9974063634872437)]\n",
      "[[[37.0, 67.0], [125.0, 67.0], [125.0, 79.0], [37.0, 79.0]], ('Complete Response', 0.9848167300224304)]\n",
      "[[[289.0, 67.0], [320.0, 67.0], [320.0, 80.0], [289.0, 80.0]], ('4(11', 0.8658384084701538)]\n",
      "[[[0.0, 80.0], [14.0, 80.0], [14.0, 93.0], [0.0, 93.0]], ('y-', 0.9522683620452881)]\n",
      "[[[37.0, 81.0], [109.0, 81.0], [109.0, 91.0], [37.0, 91.0]], ('Partial Response', 0.9707634449005127)]\n",
      "[[[289.0, 79.0], [319.0, 79.0], [319.0, 92.0], [289.0, 92.0]], ('7(20', 0.8712555766105652)]\n",
      "[[[0.0, 95.0], [14.0, 95.0], [14.0, 107.0], [0.0, 107.0]], ('a-', 0.9705014228820801)]\n",
      "[[[37.0, 92.0], [176.0, 92.0], [176.0, 105.0], [37.0, 105.0]], ('Overall Response Rate CR+PR', 0.94987553358078)]\n",
      "[[[287.0, 92.0], [322.0, 92.0], [322.0, 106.0], [287.0, 106.0]], ('11 31', 0.798136830329895)]\n",
      "[[[0.0, 108.0], [14.0, 108.0], [14.0, 121.0], [0.0, 121.0]], ('pa', 0.9094403386116028)]\n",
      "[[[37.0, 107.0], [98.0, 107.0], [98.0, 117.0], [37.0, 117.0]], ('Stable disease', 0.9680330157279968)]\n",
      "[[[288.0, 103.0], [323.0, 106.0], [322.0, 119.0], [286.0, 117.0]], ('15 (43', 0.8389247059822083)]\n",
      "[[[0.0, 121.0], [16.0, 124.0], [12.0, 137.0], [0.0, 134.0]], ('6)', 0.6226351261138916)]\n",
      "[[[35.0, 118.0], [182.0, 117.0], [182.0, 130.0], [35.0, 131.0]], ('Tumor control rate CR+PR+SD', 0.949445366859436)]\n",
      "[[[287.0, 117.0], [323.0, 119.0], [322.0, 133.0], [285.0, 131.0]], ('26(74)', 0.8766850829124451)]\n",
      "[[[0.0, 137.0], [13.0, 137.0], [13.0, 150.0], [0.0, 150.0]], ('de', 0.9975085258483887)]\n",
      "[[[36.0, 132.0], [121.0, 132.0], [121.0, 144.0], [36.0, 144.0]], ('Progressive disease', 0.9907163381576538)]\n",
      "[[[289.0, 131.0], [319.0, 131.0], [319.0, 145.0], [289.0, 145.0]], ('9 26', 0.9181082844734192)]\n",
      "[[[0.0, 153.0], [13.0, 153.0], [13.0, 166.0], [0.0, 166.0]], ('6)', 0.5984392166137695)]\n",
      "[[[0.0, 167.0], [14.0, 167.0], [14.0, 180.0], [0.0, 180.0]], ('al', 0.9920116662979126)]\n"
     ]
    }
   ],
   "source": [
    "ocr = PaddleOCR(use_angle_cls=True, lang='en')\n",
    "result = ocr.ocr(image_path, cls=True)\n",
    "for idx in range(len(result)):\n",
    "    res = result[idx]\n",
    "    for line in res:\n",
    "        print(line)"
   ]
  },
  {
   "cell_type": "code",
   "execution_count": 116,
   "metadata": {},
   "outputs": [
    {
     "name": "stdout",
     "output_type": "stream",
     "text": [
      "['ResponseNo.%', 'Complete Response4(11', 'Complete ResponsePartial ResponseOverall Response Rate CR+PR', '7(20', 'Overall Response Rate CR+PR', '11 3115 (43', 'Overall Response Rate CR+PRStable diseaseTumor control rate CR+PR+SD', '11 3115 (43', '15 (43Tumor control rate CR+PR+SD26(74)', 'Tumor control rate CR+PR+SDProgressive disease', '26(74)9 26']\n"
     ]
    }
   ],
   "source": [
    "# Crop the original image based on the modified bounding boxes and save them\n",
    "for n, (x, y, w, h) in enumerate(expanded_bounding_boxes):\n",
    "    temp=\"\"\n",
    "    mod=0\n",
    "    x1 = x + w  # Top-right x-coordinate\n",
    "    y1 = y      # Top-right y-coordinate\n",
    "\n",
    "    x2 = x + w  # Bottom-right x-coordinate\n",
    "    y2 = y + h  # Bottom-right y-coordinate\n",
    "\n",
    "    x3 = x      # Bottom-left x-coordinate\n",
    "    y3 = y + h  # Bottom-left y-coordinate\n",
    "\n",
    "    # Create the desired format\n",
    "    rect1 = [[x, y], [x1, y1], [x2, y2], [x3, y3]]\n",
    "    for j in res:\n",
    "        rect2=j[0]\n",
    "        if intersection_area(rect1,rect2)>100:\n",
    "            temp=temp+j[1][0]\n",
    "            mod=1\n",
    "    if mod==1:\n",
    "        text_arr.append(temp)\n",
    "    else:\n",
    "        text_arr.append(\"\")\n",
    "print(text_arr)"
   ]
  },
  {
   "cell_type": "code",
   "execution_count": 117,
   "metadata": {},
   "outputs": [
    {
     "name": "stdout",
     "output_type": "stream",
     "text": [
      "7\n"
     ]
    }
   ],
   "source": [
    "# Extract the x values from the bounding boxes\n",
    "x_values = [x for x, _, _, _ in expanded_bounding_boxes]\n",
    "\n",
    "# Use Counter to count the frequency of each x value\n",
    "x_counts = Counter(x_values)\n",
    "\n",
    "# Find the maximum frequency\n",
    "num_rows = max(x_counts.values())\n",
    "print(num_rows)\n"
   ]
  },
  {
   "cell_type": "code",
   "execution_count": 118,
   "metadata": {},
   "outputs": [
    {
     "name": "stdout",
     "output_type": "stream",
     "text": [
      "2\n"
     ]
    }
   ],
   "source": [
    "# Extract the y values from the bounding boxes\n",
    "y_values = [y for _, y, _, _ in expanded_bounding_boxes]\n",
    "\n",
    "# Use Counter to count the frequency of each y value\n",
    "y_counts = Counter(y_values)\n",
    "\n",
    "# Find the maximum frequency\n",
    "num_cols = max(y_counts.values())\n",
    "print(num_cols)"
   ]
  },
  {
   "cell_type": "code",
   "execution_count": 119,
   "metadata": {},
   "outputs": [
    {
     "name": "stdout",
     "output_type": "stream",
     "text": [
      "IndexError: List index out of range\n"
     ]
    }
   ],
   "source": [
    "import numpy as np\n",
    "\n",
    "# Assuming you have defined 'num_rows', 'num_cols', and 'text_arr' before this code\n",
    "\n",
    "# Create an empty NumPy array with the specified number of rows and columns\n",
    "empty_array = np.empty((num_rows, num_cols), dtype=object)\n",
    "\n",
    "k = 0\n",
    "try:\n",
    "    for i in range(0, num_rows):\n",
    "        for j in range(0, num_cols):\n",
    "            empty_array[i, j] = text_arr[k]\n",
    "            k = k + 1\n",
    "except IndexError:\n",
    "    print(\"IndexError: List index out of range\")\n",
    "\n",
    "# Save the NumPy array to a CSV file\n",
    "csv_filename = \"output.csv\"\n",
    "np.savetxt(csv_filename, empty_array, fmt=\"%s\", delimiter=\",\")\n"
   ]
  },
  {
   "cell_type": "code",
   "execution_count": null,
   "metadata": {},
   "outputs": [],
   "source": []
  },
  {
   "cell_type": "code",
   "execution_count": null,
   "metadata": {},
   "outputs": [],
   "source": []
  }
 ],
 "metadata": {
  "kernelspec": {
   "display_name": "keras_segmentation",
   "language": "python",
   "name": "python3"
  },
  "language_info": {
   "codemirror_mode": {
    "name": "ipython",
    "version": 3
   },
   "file_extension": ".py",
   "mimetype": "text/x-python",
   "name": "python",
   "nbconvert_exporter": "python",
   "pygments_lexer": "ipython3",
   "version": "3.7.16"
  },
  "orig_nbformat": 4
 },
 "nbformat": 4,
 "nbformat_minor": 2
}
