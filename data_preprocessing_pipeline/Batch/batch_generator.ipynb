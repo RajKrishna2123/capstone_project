{
 "cells": [
  {
   "cell_type": "code",
   "execution_count": 8,
   "metadata": {},
   "outputs": [],
   "source": [
    "import os\n",
    "import csv\n",
    "from math import ceil\n",
    "\n",
    "# Define the input folder containing the image files\n",
    "input_folder = \"data/train/train\"\n",
    "\n",
    "# Get a list of image filenames in the input folder\n",
    "image_filenames = [filename for filename in os.listdir(input_folder) if filename.lower().endswith(('.xml'))]\n",
    "\n",
    "batch_1=[os.path.join(input_folder, i) for i in image_filenames[0:100000] ]\n",
    "batch_2=[os.path.join(input_folder, i) for i in image_filenames[100000:200000] ]\n",
    "batch_3=[os.path.join(input_folder, i) for i in image_filenames[200000:300000] ]\n",
    "batch_4=[os.path.join(input_folder, i) for i in image_filenames[300000:400000] ]\n",
    "batch_5=[os.path.join(input_folder, i) for i in image_filenames[400000:500000] ]\n",
    "batch_6=[os.path.join(input_folder, i) for i in image_filenames[500000:600000] ]\n",
    "batch_7=[os.path.join(input_folder, i) for i in image_filenames[600000:700000] ]\n",
    "batch_8=[os.path.join(input_folder, i) for i in image_filenames[700000:800000] ]\n",
    "residual_xml_path=[os.path.join(input_folder, i) for i in image_filenames[800000:] ]"
   ]
  },
  {
   "cell_type": "code",
   "execution_count": 9,
   "metadata": {},
   "outputs": [
    {
     "name": "stdout",
     "output_type": "stream",
     "text": [
      "CSV file 'batch_1.csv' created.\n",
      "CSV file 'batch_2.csv' created.\n",
      "CSV file 'batch_3.csv' created.\n",
      "CSV file 'batch_4.csv' created.\n",
      "CSV file 'batch_5.csv' created.\n",
      "CSV file 'batch_6.csv' created.\n",
      "CSV file 'batch_7.csv' created.\n",
      "CSV file 'batch_8.csv' created.\n",
      "CSV file 'residual_batch.csv' created.\n"
     ]
    }
   ],
   "source": [
    "# Save each batch and residual filenames to separate CSV files\n",
    "def save_to_csv(filename, paths):\n",
    "    with open(filename, 'w', newline='') as csvfile:\n",
    "        csv_writer = csv.writer(csvfile)\n",
    "        csv_writer.writerows([[path] for path in paths])\n",
    "    print(f\"CSV file '{filename}' created.\")\n",
    "\n",
    "# Define CSV filenames for each batch and the residual batch\n",
    "batch_filenames = [\n",
    "    \"batch_1.csv\", \"batch_2.csv\", \"batch_3.csv\", \"batch_4.csv\",\n",
    "    \"batch_5.csv\", \"batch_6.csv\", \"batch_7.csv\", \"batch_8.csv\"\n",
    "]\n",
    "\n",
    "# Save each batch to its corresponding CSV file\n",
    "for batch_index, batch in enumerate([batch_1, batch_2, batch_3, batch_4, batch_5, batch_6, batch_7, batch_8]):\n",
    "    save_to_csv(batch_filenames[batch_index], batch)\n",
    "\n",
    "# Save residual filenames to CSV\n",
    "if residual_xml_path:\n",
    "    save_to_csv(\"residual_batch.csv\", residual_xml_path)\n"
   ]
  },
  {
   "cell_type": "code",
   "execution_count": 10,
   "metadata": {},
   "outputs": [
    {
     "name": "stdout",
     "output_type": "stream",
     "text": [
      "data/train/train\\PMC5875782_table_0.xml\n"
     ]
    }
   ],
   "source": [
    "print(batch_8[-1])"
   ]
  },
  {
   "cell_type": "code",
   "execution_count": null,
   "metadata": {},
   "outputs": [],
   "source": []
  }
 ],
 "metadata": {
  "kernelspec": {
   "display_name": "keras_segmentation",
   "language": "python",
   "name": "python3"
  },
  "language_info": {
   "codemirror_mode": {
    "name": "ipython",
    "version": 3
   },
   "file_extension": ".py",
   "mimetype": "text/x-python",
   "name": "python",
   "nbconvert_exporter": "python",
   "pygments_lexer": "ipython3",
   "version": "3.7.16"
  },
  "orig_nbformat": 4
 },
 "nbformat": 4,
 "nbformat_minor": 2
}
